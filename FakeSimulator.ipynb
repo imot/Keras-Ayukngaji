{
 "cells": [
  {
   "cell_type": "code",
   "execution_count": 2,
   "metadata": {},
   "outputs": [],
   "source": [
    "%matplotlib inline\n",
    "import IPython.display as ipd\n",
    "from ipywidgets import interact, interactive, fixed\n",
    "\n",
    "import os\n",
    "import audioop\n",
    "import pyaudio\n",
    "import wave\n",
    "import numpy as np\n",
    "from scipy.io.wavfile import read\n",
    "import matplotlib.pyplot as plt\n",
    "import copy\n",
    "from scipy.signal import butter, lfilter\n",
    "import scipy.ndimage\n",
    "import librosa\n",
    "import librosa.display\n",
    "import random"
   ]
  },
  {
   "cell_type": "code",
   "execution_count": 7,
   "metadata": {},
   "outputs": [],
   "source": [
    "WORD_TO_TRAIN = ['ba','ta','si','mi','nu','ju']\n",
    "PATH_TO_TRAIN = os.getcwd()+'/data/train'\n",
    "PATH_TO_TEST = os.getcwd()+'/data/test'\n",
    "PATH_TO_NOISE = os.getcwd()+'/../../data/noise'\n",
    "FILE_PREFIX = \"generated\"\n",
    "WORKPATH=PATH_TO_TEST"
   ]
  },
  {
   "cell_type": "code",
   "execution_count": 5,
   "metadata": {},
   "outputs": [
    {
     "data": {
      "text/plain": [
       "'E:\\\\data\\\\python\\\\3.6\\\\RNN-Ayukngaji/data/test'"
      ]
     },
     "execution_count": 5,
     "metadata": {},
     "output_type": "execute_result"
    }
   ],
   "source": [
    "WORKPATH"
   ]
  },
  {
   "cell_type": "code",
   "execution_count": 15,
   "metadata": {},
   "outputs": [
    {
     "name": "stdout",
     "output_type": "stream",
     "text": [
      "['ba-irza-1209.wav', 'ba-irza-1597.wav', 'ba-irza-3975.wav', 'ba-irza-4995.wav', 'ba-irza-977.wav'] E:\\data\\python\\3.6\\RNN-Ayukngaji/data/test/ba-irza-1209-generated.wav\n",
      "['ba-irza-1209.wav', 'ba-irza-1597.wav', 'ba-irza-3975.wav', 'ba-irza-4995.wav', 'ba-irza-977.wav'] E:\\data\\python\\3.6\\RNN-Ayukngaji/data/test/ba-irza-1597-generated.wav\n",
      "['ba-irza-1209.wav', 'ba-irza-1597.wav', 'ba-irza-3975.wav', 'ba-irza-4995.wav', 'ba-irza-977.wav'] E:\\data\\python\\3.6\\RNN-Ayukngaji/data/test/ba-irza-3975-generated.wav\n",
      "['ba-irza-1209.wav', 'ba-irza-1597.wav', 'ba-irza-3975.wav', 'ba-irza-4995.wav', 'ba-irza-977.wav'] E:\\data\\python\\3.6\\RNN-Ayukngaji/data/test/ba-irza-4995-generated.wav\n",
      "['ba-irza-1209.wav', 'ba-irza-1597.wav', 'ba-irza-3975.wav', 'ba-irza-4995.wav', 'ba-irza-977.wav'] E:\\data\\python\\3.6\\RNN-Ayukngaji/data/test/ba-irza-977-generated.wav\n",
      "['ta-irza-1209.wav', 'ta-irza-1597.wav', 'ta-irza-3975.wav', 'ta-irza-4995.wav', 'ta-irza-977.wav'] E:\\data\\python\\3.6\\RNN-Ayukngaji/data/test/ta-irza-1209-generated.wav\n",
      "['ta-irza-1209.wav', 'ta-irza-1597.wav', 'ta-irza-3975.wav', 'ta-irza-4995.wav', 'ta-irza-977.wav'] E:\\data\\python\\3.6\\RNN-Ayukngaji/data/test/ta-irza-1597-generated.wav\n",
      "['ta-irza-1209.wav', 'ta-irza-1597.wav', 'ta-irza-3975.wav', 'ta-irza-4995.wav', 'ta-irza-977.wav'] E:\\data\\python\\3.6\\RNN-Ayukngaji/data/test/ta-irza-3975-generated.wav\n",
      "['ta-irza-1209.wav', 'ta-irza-1597.wav', 'ta-irza-3975.wav', 'ta-irza-4995.wav', 'ta-irza-977.wav'] E:\\data\\python\\3.6\\RNN-Ayukngaji/data/test/ta-irza-4995-generated.wav\n",
      "['ta-irza-1209.wav', 'ta-irza-1597.wav', 'ta-irza-3975.wav', 'ta-irza-4995.wav', 'ta-irza-977.wav'] E:\\data\\python\\3.6\\RNN-Ayukngaji/data/test/ta-irza-977-generated.wav\n",
      "['si-irza-1209.wav', 'si-irza-1597.wav', 'si-irza-3975.wav', 'si-irza-4995.wav', 'si-irza-977.wav'] E:\\data\\python\\3.6\\RNN-Ayukngaji/data/test/si-irza-1209-generated.wav\n",
      "['si-irza-1209.wav', 'si-irza-1597.wav', 'si-irza-3975.wav', 'si-irza-4995.wav', 'si-irza-977.wav'] E:\\data\\python\\3.6\\RNN-Ayukngaji/data/test/si-irza-1597-generated.wav\n",
      "['si-irza-1209.wav', 'si-irza-1597.wav', 'si-irza-3975.wav', 'si-irza-4995.wav', 'si-irza-977.wav'] E:\\data\\python\\3.6\\RNN-Ayukngaji/data/test/si-irza-3975-generated.wav\n",
      "['si-irza-1209.wav', 'si-irza-1597.wav', 'si-irza-3975.wav', 'si-irza-4995.wav', 'si-irza-977.wav'] E:\\data\\python\\3.6\\RNN-Ayukngaji/data/test/si-irza-4995-generated.wav\n",
      "['si-irza-1209.wav', 'si-irza-1597.wav', 'si-irza-3975.wav', 'si-irza-4995.wav', 'si-irza-977.wav'] E:\\data\\python\\3.6\\RNN-Ayukngaji/data/test/si-irza-977-generated.wav\n",
      "['mi-irza-1209.wav', 'mi-irza-1597.wav', 'mi-irza-3975.wav', 'mi-irza-4995.wav', 'mi-irza-977.wav'] E:\\data\\python\\3.6\\RNN-Ayukngaji/data/test/mi-irza-1209-generated.wav\n",
      "['mi-irza-1209.wav', 'mi-irza-1597.wav', 'mi-irza-3975.wav', 'mi-irza-4995.wav', 'mi-irza-977.wav'] E:\\data\\python\\3.6\\RNN-Ayukngaji/data/test/mi-irza-1597-generated.wav\n",
      "['mi-irza-1209.wav', 'mi-irza-1597.wav', 'mi-irza-3975.wav', 'mi-irza-4995.wav', 'mi-irza-977.wav'] E:\\data\\python\\3.6\\RNN-Ayukngaji/data/test/mi-irza-3975-generated.wav\n",
      "['mi-irza-1209.wav', 'mi-irza-1597.wav', 'mi-irza-3975.wav', 'mi-irza-4995.wav', 'mi-irza-977.wav'] E:\\data\\python\\3.6\\RNN-Ayukngaji/data/test/mi-irza-4995-generated.wav\n",
      "['mi-irza-1209.wav', 'mi-irza-1597.wav', 'mi-irza-3975.wav', 'mi-irza-4995.wav', 'mi-irza-977.wav'] E:\\data\\python\\3.6\\RNN-Ayukngaji/data/test/mi-irza-977-generated.wav\n",
      "['nu-irza-1209.wav', 'nu-irza-1597.wav', 'nu-irza-3975.wav', 'nu-irza-4995.wav', 'nu-irza-977.wav'] E:\\data\\python\\3.6\\RNN-Ayukngaji/data/test/nu-irza-1209-generated.wav\n",
      "['nu-irza-1209.wav', 'nu-irza-1597.wav', 'nu-irza-3975.wav', 'nu-irza-4995.wav', 'nu-irza-977.wav'] E:\\data\\python\\3.6\\RNN-Ayukngaji/data/test/nu-irza-1597-generated.wav\n",
      "['nu-irza-1209.wav', 'nu-irza-1597.wav', 'nu-irza-3975.wav', 'nu-irza-4995.wav', 'nu-irza-977.wav'] E:\\data\\python\\3.6\\RNN-Ayukngaji/data/test/nu-irza-3975-generated.wav\n",
      "['nu-irza-1209.wav', 'nu-irza-1597.wav', 'nu-irza-3975.wav', 'nu-irza-4995.wav', 'nu-irza-977.wav'] E:\\data\\python\\3.6\\RNN-Ayukngaji/data/test/nu-irza-4995-generated.wav\n",
      "['nu-irza-1209.wav', 'nu-irza-1597.wav', 'nu-irza-3975.wav', 'nu-irza-4995.wav', 'nu-irza-977.wav'] E:\\data\\python\\3.6\\RNN-Ayukngaji/data/test/nu-irza-977-generated.wav\n",
      "['ju-irza-1209.wav', 'ju-irza-1597.wav', 'ju-irza-3975.wav', 'ju-irza-4995.wav', 'ju-irza-977.wav'] E:\\data\\python\\3.6\\RNN-Ayukngaji/data/test/ju-irza-1209-generated.wav\n",
      "['ju-irza-1209.wav', 'ju-irza-1597.wav', 'ju-irza-3975.wav', 'ju-irza-4995.wav', 'ju-irza-977.wav'] E:\\data\\python\\3.6\\RNN-Ayukngaji/data/test/ju-irza-1597-generated.wav\n",
      "['ju-irza-1209.wav', 'ju-irza-1597.wav', 'ju-irza-3975.wav', 'ju-irza-4995.wav', 'ju-irza-977.wav'] E:\\data\\python\\3.6\\RNN-Ayukngaji/data/test/ju-irza-3975-generated.wav\n",
      "['ju-irza-1209.wav', 'ju-irza-1597.wav', 'ju-irza-3975.wav', 'ju-irza-4995.wav', 'ju-irza-977.wav'] E:\\data\\python\\3.6\\RNN-Ayukngaji/data/test/ju-irza-4995-generated.wav\n",
      "['ju-irza-1209.wav', 'ju-irza-1597.wav', 'ju-irza-3975.wav', 'ju-irza-4995.wav', 'ju-irza-977.wav'] E:\\data\\python\\3.6\\RNN-Ayukngaji/data/test/ju-irza-977-generated.wav\n"
     ]
    }
   ],
   "source": [
    "for i in WORD_TO_TRAIN:\n",
    "    ftg = os.listdir(WORKPATH+\"/\"+i)\n",
    "    for fl in ftg:\n",
    "        fts = WORKPATH+\"/\"+fl.split(\".\")[0]+\"-\"+FILE_PREFIX+\".wav\"\n",
    "        print(ftg,fts)"
   ]
  },
  {
   "cell_type": "code",
   "execution_count": 58,
   "metadata": {},
   "outputs": [],
   "source": [
    "wv1, sr1 = librosa.load(\"file.wav\", mono=True)\n",
    "wv2, sr2 = librosa.load(\"08.wav\", mono=True)"
   ]
  },
  {
   "cell_type": "code",
   "execution_count": 59,
   "metadata": {
    "scrolled": true
   },
   "outputs": [
    {
     "ename": "NameError",
     "evalue": "name 'arf' is not defined",
     "output_type": "error",
     "traceback": [
      "\u001b[1;31m---------------------------------------------------------------------------\u001b[0m",
      "\u001b[1;31mNameError\u001b[0m                                 Traceback (most recent call last)",
      "\u001b[1;32m<ipython-input-59-fc319a921768>\u001b[0m in \u001b[0;36m<module>\u001b[1;34m()\u001b[0m\n\u001b[1;32m----> 1\u001b[1;33m \u001b[0mlen\u001b[0m\u001b[1;33m(\u001b[0m\u001b[0marf\u001b[0m\u001b[1;33m)\u001b[0m\u001b[1;33m,\u001b[0m\u001b[0mlen\u001b[0m\u001b[1;33m(\u001b[0m\u001b[0mwv1\u001b[0m\u001b[1;33m)\u001b[0m\u001b[1;33m\u001b[0m\u001b[0m\n\u001b[0m",
      "\u001b[1;31mNameError\u001b[0m: name 'arf' is not defined"
     ]
    }
   ],
   "source": []
  },
  {
   "cell_type": "code",
   "execution_count": 64,
   "metadata": {},
   "outputs": [
    {
     "name": "stderr",
     "output_type": "stream",
     "text": [
      "C:\\Anaconda3\\envs\\tensorflow\\lib\\site-packages\\scipy\\io\\wavfile.py:273: WavFileWarning: Chunk (non-data) not understood, skipping it.\n",
      "  WavFileWarning)\n"
     ]
    }
   ],
   "source": [
    "fl1 = os.listdir(PATH_TO_NOISE)\n",
    "fl2 = os.listdir(PATH_TO_TRAIN+\"/\"+\"ba\")\n",
    "\n",
    "fr1 = PATH_TO_NOISE+\"/\"+fl1[13]\n",
    "fr2 = PATH_TO_TRAIN+\"/ba/\"+fl2[1]\n",
    "wv1, sr1 = read(fr1)\n",
    "a = wave.open(fr2)"
   ]
  },
  {
   "cell_type": "code",
   "execution_count": null,
   "metadata": {},
   "outputs": [],
   "source": []
  },
  {
   "cell_type": "code",
   "execution_count": null,
   "metadata": {},
   "outputs": [],
   "source": []
  },
  {
   "cell_type": "code",
   "execution_count": null,
   "metadata": {},
   "outputs": [],
   "source": []
  }
 ],
 "metadata": {
  "kernelspec": {
   "display_name": "Python 3",
   "language": "python",
   "name": "python3"
  },
  "language_info": {
   "codemirror_mode": {
    "name": "ipython",
    "version": 3
   },
   "file_extension": ".py",
   "mimetype": "text/x-python",
   "name": "python",
   "nbconvert_exporter": "python",
   "pygments_lexer": "ipython3",
   "version": "3.6.4"
  }
 },
 "nbformat": 4,
 "nbformat_minor": 2
}

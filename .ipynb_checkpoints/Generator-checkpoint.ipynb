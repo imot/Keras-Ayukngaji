{
 "cells": [
  {
   "cell_type": "code",
   "execution_count": 7,
   "metadata": {},
   "outputs": [
    {
     "ename": "SyntaxError",
     "evalue": "invalid syntax (<ipython-input-7-2a2964d67ae7>, line 129)",
     "output_type": "error",
     "traceback": [
      "\u001b[1;36m  File \u001b[1;32m\"<ipython-input-7-2a2964d67ae7>\"\u001b[1;36m, line \u001b[1;32m129\u001b[0m\n\u001b[1;33m    def stagrec(self, self.file, length=3, thres=600):\u001b[0m\n\u001b[1;37m                          ^\u001b[0m\n\u001b[1;31mSyntaxError\u001b[0m\u001b[1;31m:\u001b[0m invalid syntax\n"
     ]
    }
   ],
   "source": [
    "%matplotlib inline\n",
    "import IPython.display as ipd\n",
    "from ipywidgets import interact, interactive, fixed\n",
    "\n",
    "import os\n",
    "import audioop\n",
    "import pyaudio\n",
    "import wave\n",
    "import numpy as np\n",
    "from scipy.io.wavfile import read\n",
    "import matplotlib.pyplot as plt\n",
    "import copy\n",
    "from scipy.signal import butter, lfilter\n",
    "import scipy.ndimage\n",
    "import librosa\n",
    "import librosa.display\n",
    "import random\n",
    "\n",
    "class AudioFile:\n",
    "    chunk = 2048\n",
    "    FORMAT = pyaudio.paInt16\n",
    "    CHANNELS = 2\n",
    "    RATE = 44100\n",
    "    length_capture = 20  #20 ms\n",
    "    overlap_frame = 4    #4 ms\n",
    "    start_at = 7         #maybe not used\n",
    "    end_at = 100\n",
    "    DEBUG = True\n",
    "\n",
    "    def __init__(self, file):\n",
    "        self.file = file\n",
    "\n",
    "    def play(self):\n",
    "        self.wf = wave.open(self.file, 'rb')\n",
    "\n",
    "        # instantiate PyAudio (1)\n",
    "        self.p = pyaudio.PyAudio()\n",
    "\n",
    "        # open stream (2)\n",
    "        self.stream = self.p.open(format=self.p.get_format_from_width(self.wf.getsampwidth()),\n",
    "                channels=self.wf.getnchannels(),\n",
    "                rate=self.wf.getframerate(),\n",
    "                output=True)\n",
    "\n",
    "        # read data\n",
    "        self.data = self.wf.readframes(self.chunk)\n",
    "\n",
    "        # play stream (3)\n",
    "        while len(self.data) > 0:\n",
    "            self.stream.write(self.data)\n",
    "            self.data = self.wf.readframes(self.chunk)\n",
    "\n",
    "        # stop stream (4)\n",
    "        self.stream.stop_stream()\n",
    "        self.stream.close()\n",
    "\n",
    "        # close PyAudio (5)\n",
    "        self.p.terminate()\n",
    "\n",
    "    def record(self, length=3, thres=600):\n",
    "        self.p = pyaudio.PyAudio()\n",
    " \n",
    "        # start Recording\n",
    "        self.stream = self.p.open(format=self.FORMAT, channels=self.CHANNELS,\n",
    "                rate=self.RATE, input=True,\n",
    "                frames_per_buffer=self.chunk)\n",
    "        \"\"\"record to file\"\"\"\n",
    "        self.frames = []\n",
    "        self.temp_frames = []\n",
    "        print(\"Recording\")\n",
    "        for i in range(0, int(self.RATE / self.chunk * length)):\n",
    "            \n",
    "            data = self.stream.read(self.chunk)\n",
    "            rms = audioop.rms(data,2)\n",
    "            if rms >= thres:\n",
    "                self.frames.append(data)\n",
    "           \n",
    "                \n",
    "        print(\"finished recording\")\n",
    " \n",
    "        # stop Recording\n",
    "        self.stream.stop_stream()\n",
    "        self.stream.close()\n",
    "        \n",
    "        \n",
    "        self.wf = wave.open(self.file, 'wb')\n",
    "        self.wf.setnchannels(self.CHANNELS)\n",
    "        self.wf.setsampwidth(self.p.get_sample_size(self.FORMAT))\n",
    "        self.wf.setframerate(self.RATE)\n",
    "        self.wf.writeframes(b''.join(self.frames))\n",
    "        self.wf.close() \n",
    "        \n",
    "    def plot(self,bgn,lst):\n",
    "        # read audio samples\n",
    "        input_data = read(self.file)\n",
    "        audio = input_data[1]\n",
    "        \n",
    "        #put to normalize\n",
    "        audio = audio / (2.**(16-1))  # normalize\n",
    "\n",
    "        plt.plot(audio[bgn:lst])\n",
    "        # label the axes\n",
    "        plt.ylabel(\"Amplitude\")\n",
    "        plt.xlabel(\"Time\")\n",
    "        # set the title  \n",
    "        plt.title(\"Recorded Wav\")\n",
    "        # display the plot\n",
    "        plt.show()\n",
    "        # Usage example for pyaudio\n",
    "\n",
    "    def libplot(self):\n",
    "        wave, sr = librosa.load(self.file, mono=True)\n",
    "        plt.figure(figsize=(12,4))\n",
    "        librosa.display.waveplot(wave, sr=sr)\n",
    "        \n",
    "    def libspec(self):\n",
    "        wave, sr = librosa.load(self.file, mono=True)\n",
    "        D = librosa.stft(wave,hop_length=64)\n",
    "        plt.figure(figsize=(12,4))\n",
    "        librosa.display.specshow(librosa.amplitude_to_db(D,ref=np.max),\n",
    "            y_axis='log', x_axis='time')\n",
    "        plt.title('Power spectrogram')\n",
    "        plt.colorbar(format='%+2.0f dB')\n",
    "        plt.tight_layout()\n",
    "        \n",
    "    def aufile(self):\n",
    "        return self.file\n",
    "    \n",
    "    def stagrec(self, self.file, length=3, thres=600):\n",
    "        self.p = pyaudio.PyAudio()\n",
    "\n",
    "\n",
    "        # start Recording\n",
    "        self.stream = self.p.open(format=self.FORMAT, channels=self.CHANNELS,\n",
    "                rate=self.RATE, input=True,\n",
    "                frames_per_buffer=self.chunk)\n",
    "        \"\"\"record to file\"\"\"\n",
    " \n",
    "        self.frames = []\n",
    "        self.temp_frames = []\n",
    "        self.captured = []\n",
    "        self.captured_frame_count = 0\n",
    "        self.the_overlap=[]\n",
    "\n",
    "        print(\"Recording\")\n",
    "        \n",
    "        \n",
    "        for i in range(0, int(self.RATE / self.chunk * length)):\n",
    "            \n",
    "            data = self.stream.read(self.chunk)\n",
    "            rms = audioop.rms(data,2)\n",
    "            if rms >= thres:\n",
    "                \n",
    "                \n",
    "                \n",
    "                self.frames.append(data)\n",
    "            \n",
    "                \n",
    "        print(\"finished recording\")\n",
    "        #print(len(self.frames))\n",
    "        #print(len(self.frames[1]))\n",
    "        # stop Recording\n",
    "        self.stream.stop_stream()\n",
    "        self.stream.close()\n",
    "        \n",
    "        \n",
    "        for i in range(len(self.frames)):\n",
    "            self.fnm=self.file\n",
    "            self.fn = self.fnm.split('.wav')[0]\n",
    "            print(self.fn)\n",
    "            self.fn = self.fn + str(i)+'-f.wav'\n",
    "            \n",
    "            self.wf = wave.open(self.fn, 'wb')\n",
    "            self.wf.setnchannels(self.CHANNELS)\n",
    "            self.wf.setsampwidth(self.p.get_sample_size(self.FORMAT))\n",
    "            self.wf.setframerate(self.RATE)\n",
    "            self.wf.writeframes(b''.join([self.frames[i]]))\n",
    "            self.wf.close()        "
   ]
  },
  {
   "cell_type": "code",
   "execution_count": 3,
   "metadata": {},
   "outputs": [
    {
     "ename": "NameError",
     "evalue": "name 'AudioFile' is not defined",
     "output_type": "error",
     "traceback": [
      "\u001b[1;31m---------------------------------------------------------------------------\u001b[0m",
      "\u001b[1;31mNameError\u001b[0m                                 Traceback (most recent call last)",
      "\u001b[1;32m<ipython-input-3-6c5cbc0e8a9e>\u001b[0m in \u001b[0;36m<module>\u001b[1;34m()\u001b[0m\n\u001b[0;32m      1\u001b[0m \u001b[1;31m#MAU APA LO??\u001b[0m\u001b[1;33m\u001b[0m\u001b[1;33m\u001b[0m\u001b[0m\n\u001b[0;32m      2\u001b[0m \u001b[1;33m\u001b[0m\u001b[0m\n\u001b[1;32m----> 3\u001b[1;33m \u001b[0ma\u001b[0m \u001b[1;33m=\u001b[0m \u001b[0mAudioFile\u001b[0m\u001b[1;33m(\u001b[0m\u001b[1;34m\"file.wav\"\u001b[0m\u001b[1;33m)\u001b[0m\u001b[1;33m\u001b[0m\u001b[0m\n\u001b[0m\u001b[0;32m      4\u001b[0m \u001b[1;31m#a.record(5)\u001b[0m\u001b[1;33m\u001b[0m\u001b[1;33m\u001b[0m\u001b[0m\n\u001b[0;32m      5\u001b[0m \u001b[0ma\u001b[0m\u001b[1;33m.\u001b[0m\u001b[0mplay\u001b[0m\u001b[1;33m(\u001b[0m\u001b[1;33m)\u001b[0m\u001b[1;33m\u001b[0m\u001b[0m\n",
      "\u001b[1;31mNameError\u001b[0m: name 'AudioFile' is not defined"
     ]
    }
   ],
   "source": [
    "#MAU APA LO??\n",
    "\n",
    "a = AudioFile(\"file.wav\")\n",
    "#a.record(5)\n",
    "a.play()\n",
    "#a.plot(0,-1)\n",
    "a.libplot()\n",
    "a.libspec()"
   ]
  },
  {
   "cell_type": "code",
   "execution_count": null,
   "metadata": {},
   "outputs": [],
   "source": []
  },
  {
   "cell_type": "code",
   "execution_count": 12,
   "metadata": {},
   "outputs": [],
   "source": [
    "WORD_TO_TRAIN = ['ba','ta','si','mi','nu','ju']\n",
    "PATH_TO_TRAIN = os.getcwd()+'/data/train'\n",
    "PATH_TO_TEST = os.getcwd()+'/data/test'\n",
    "FILE_PREFIX = \"irza\"\n",
    "WORKPATH = PATH_TO_TRAIN"
   ]
  },
  {
   "cell_type": "code",
   "execution_count": 4,
   "metadata": {
    "scrolled": true
   },
   "outputs": [
    {
     "name": "stdout",
     "output_type": "stream",
     "text": [
      "error create dir\n",
      "error create dir\n",
      "error create dir\n",
      "error create dir\n",
      "error create dir\n",
      "error create dir\n"
     ]
    }
   ],
   "source": [
    "#create the dir\n",
    "for i in WORD_TO_TRAIN:\n",
    "    try:\n",
    "        os.mkdir(PATH_TO_TRAIN+\"/\"+i)\n",
    "        os.mkdir(PATH_TO_TEST+\"/\"+i)\n",
    "    except:\n",
    "        print(\"error create dir\")"
   ]
  },
  {
   "cell_type": "code",
   "execution_count": 50,
   "metadata": {
    "scrolled": true
   },
   "outputs": [
    {
     "name": "stdout",
     "output_type": "stream",
     "text": [
      "Sequence: 4414\n",
      "\n",
      "Silahkan baca kalau sudah recording : nu\n",
      "Recording\n",
      "finished recording\n",
      "E:\\data\\python\\3.6\\RNN-Ayukngaji/data/train/nu/nu-irza-4414\n",
      "E:\\data\\python\\3.6\\RNN-Ayukngaji/data/train/nu/nu-irza-4414\n",
      "E:\\data\\python\\3.6\\RNN-Ayukngaji/data/train/nu/nu-irza-4414\n",
      "E:\\data\\python\\3.6\\RNN-Ayukngaji/data/train/nu/nu-irza-4414\n",
      "E:\\data\\python\\3.6\\RNN-Ayukngaji/data/train/nu/nu-irza-4414\n",
      "E:\\data\\python\\3.6\\RNN-Ayukngaji/data/train/nu/nu-irza-4414\n",
      "E:\\data\\python\\3.6\\RNN-Ayukngaji/data/train/nu/nu-irza-4414\n",
      "\n",
      "Silahkan baca kalau sudah recording : mi\n",
      "Recording\n",
      "finished recording\n",
      "E:\\data\\python\\3.6\\RNN-Ayukngaji/data/train/mi/mi-irza-4414\n",
      "E:\\data\\python\\3.6\\RNN-Ayukngaji/data/train/mi/mi-irza-4414\n",
      "E:\\data\\python\\3.6\\RNN-Ayukngaji/data/train/mi/mi-irza-4414\n",
      "E:\\data\\python\\3.6\\RNN-Ayukngaji/data/train/mi/mi-irza-4414\n",
      "E:\\data\\python\\3.6\\RNN-Ayukngaji/data/train/mi/mi-irza-4414\n",
      "E:\\data\\python\\3.6\\RNN-Ayukngaji/data/train/mi/mi-irza-4414\n",
      "E:\\data\\python\\3.6\\RNN-Ayukngaji/data/train/mi/mi-irza-4414\n",
      "\n",
      "Silahkan baca kalau sudah recording : ta\n",
      "Recording\n",
      "finished recording\n",
      "E:\\data\\python\\3.6\\RNN-Ayukngaji/data/train/ta/ta-irza-4414\n",
      "E:\\data\\python\\3.6\\RNN-Ayukngaji/data/train/ta/ta-irza-4414\n",
      "E:\\data\\python\\3.6\\RNN-Ayukngaji/data/train/ta/ta-irza-4414\n",
      "E:\\data\\python\\3.6\\RNN-Ayukngaji/data/train/ta/ta-irza-4414\n",
      "E:\\data\\python\\3.6\\RNN-Ayukngaji/data/train/ta/ta-irza-4414\n",
      "E:\\data\\python\\3.6\\RNN-Ayukngaji/data/train/ta/ta-irza-4414\n",
      "E:\\data\\python\\3.6\\RNN-Ayukngaji/data/train/ta/ta-irza-4414\n",
      "E:\\data\\python\\3.6\\RNN-Ayukngaji/data/train/ta/ta-irza-4414\n",
      "E:\\data\\python\\3.6\\RNN-Ayukngaji/data/train/ta/ta-irza-4414\n",
      "E:\\data\\python\\3.6\\RNN-Ayukngaji/data/train/ta/ta-irza-4414\n",
      "E:\\data\\python\\3.6\\RNN-Ayukngaji/data/train/ta/ta-irza-4414\n",
      "E:\\data\\python\\3.6\\RNN-Ayukngaji/data/train/ta/ta-irza-4414\n",
      "E:\\data\\python\\3.6\\RNN-Ayukngaji/data/train/ta/ta-irza-4414\n",
      "\n",
      "Silahkan baca kalau sudah recording : ba\n",
      "Recording\n",
      "finished recording\n",
      "E:\\data\\python\\3.6\\RNN-Ayukngaji/data/train/ba/ba-irza-4414\n",
      "E:\\data\\python\\3.6\\RNN-Ayukngaji/data/train/ba/ba-irza-4414\n",
      "E:\\data\\python\\3.6\\RNN-Ayukngaji/data/train/ba/ba-irza-4414\n",
      "E:\\data\\python\\3.6\\RNN-Ayukngaji/data/train/ba/ba-irza-4414\n",
      "E:\\data\\python\\3.6\\RNN-Ayukngaji/data/train/ba/ba-irza-4414\n",
      "E:\\data\\python\\3.6\\RNN-Ayukngaji/data/train/ba/ba-irza-4414\n",
      "E:\\data\\python\\3.6\\RNN-Ayukngaji/data/train/ba/ba-irza-4414\n",
      "E:\\data\\python\\3.6\\RNN-Ayukngaji/data/train/ba/ba-irza-4414\n",
      "\n",
      "Silahkan baca kalau sudah recording : ju\n",
      "Recording\n",
      "finished recording\n",
      "E:\\data\\python\\3.6\\RNN-Ayukngaji/data/train/ju/ju-irza-4414\n",
      "E:\\data\\python\\3.6\\RNN-Ayukngaji/data/train/ju/ju-irza-4414\n",
      "E:\\data\\python\\3.6\\RNN-Ayukngaji/data/train/ju/ju-irza-4414\n",
      "E:\\data\\python\\3.6\\RNN-Ayukngaji/data/train/ju/ju-irza-4414\n",
      "E:\\data\\python\\3.6\\RNN-Ayukngaji/data/train/ju/ju-irza-4414\n",
      "E:\\data\\python\\3.6\\RNN-Ayukngaji/data/train/ju/ju-irza-4414\n",
      "\n",
      "Silahkan baca kalau sudah recording : si\n",
      "Recording\n",
      "finished recording\n",
      "E:\\data\\python\\3.6\\RNN-Ayukngaji/data/train/si/si-irza-4414\n",
      "E:\\data\\python\\3.6\\RNN-Ayukngaji/data/train/si/si-irza-4414\n",
      "E:\\data\\python\\3.6\\RNN-Ayukngaji/data/train/si/si-irza-4414\n",
      "E:\\data\\python\\3.6\\RNN-Ayukngaji/data/train/si/si-irza-4414\n",
      "E:\\data\\python\\3.6\\RNN-Ayukngaji/data/train/si/si-irza-4414\n",
      "E:\\data\\python\\3.6\\RNN-Ayukngaji/data/train/si/si-irza-4414\n",
      "E:\\data\\python\\3.6\\RNN-Ayukngaji/data/train/si/si-irza-4414\n",
      "E:\\data\\python\\3.6\\RNN-Ayukngaji/data/train/si/si-irza-4414\n",
      "E:\\data\\python\\3.6\\RNN-Ayukngaji/data/train/si/si-irza-4414\n",
      "\n",
      "Selesai proses merekam\n",
      "\n"
     ]
    }
   ],
   "source": [
    "#Generate AUDIO FILE\n",
    "\n",
    "rann = str(random.randint(0,5000))\n",
    "print(\"Sequence:\",rann)\n",
    "\n",
    "#use this for shuffle the word\n",
    "random.shuffle(WORD_TO_TRAIN)\n",
    "\n",
    "for i in WORD_TO_TRAIN:\n",
    "    #gunakan PATH_TO_TEST atau PATH_TO_TRAIN\n",
    "    file = WORKPATH+\"/\"+i+\"/\"+i+\"-\"+FILE_PREFIX+\"-\"+rann+\".wav\"\n",
    "    a = AudioFile(file)\n",
    "    print(\"\\nSilahkan baca kalau sudah recording :\",i)\n",
    "    a.stagrec(fnm=file,thres=800)\n",
    "    \n",
    "print(\"\\nSelesai proses merekam\\n\")"
   ]
  },
  {
   "cell_type": "code",
   "execution_count": 39,
   "metadata": {},
   "outputs": [],
   "source": [
    "#to replay\n",
    "for i in WORD_TO_TRAIN:\n",
    "    #gunakan PATH_TO_TEST atau PATH_TO_TRAIN\n",
    "    a = AudioFile(WORKPATH+\"/\"+i+\"/\"+i+\"-\"+FILE_PREFIX+\"-\"+rann+\".wav\")\n",
    "    a.play()\n",
    "    \n",
    "    "
   ]
  },
  {
   "cell_type": "code",
   "execution_count": 30,
   "metadata": {},
   "outputs": [
    {
     "ename": "TypeError",
     "evalue": "stagrec() got multiple values for argument 'thres'",
     "output_type": "error",
     "traceback": [
      "\u001b[1;31m---------------------------------------------------------------------------\u001b[0m",
      "\u001b[1;31mTypeError\u001b[0m                                 Traceback (most recent call last)",
      "\u001b[1;32m<ipython-input-30-20bceed7005d>\u001b[0m in \u001b[0;36m<module>\u001b[1;34m()\u001b[0m\n\u001b[1;32m----> 1\u001b[1;33m \u001b[0ma\u001b[0m\u001b[1;33m.\u001b[0m\u001b[0mstagrec\u001b[0m\u001b[1;33m(\u001b[0m\u001b[1;34m\"aw.wav\"\u001b[0m\u001b[1;33m,\u001b[0m\u001b[1;36m1\u001b[0m\u001b[1;33m,\u001b[0m\u001b[0mthres\u001b[0m\u001b[1;33m=\u001b[0m\u001b[1;36m800\u001b[0m\u001b[1;33m)\u001b[0m\u001b[1;33m\u001b[0m\u001b[0m\n\u001b[0m",
      "\u001b[1;31mTypeError\u001b[0m: stagrec() got multiple values for argument 'thres'"
     ]
    }
   ],
   "source": [
    "a.stagrec(\"aw.wav\",,thres=800)"
   ]
  },
  {
   "cell_type": "code",
   "execution_count": 85,
   "metadata": {},
   "outputs": [
    {
     "data": {
      "image/png": "[encoded data removed]",
      "text/plain": [
       "<matplotlib.figure.Figure at 0x1db8426de10>"
      ]
     },
     "metadata": {},
     "output_type": "display_data"
    }
   ],
   "source": [
    "a.plot(0,-1)"
   ]
  },
  {
   "cell_type": "code",
   "execution_count": 47,
   "metadata": {},
   "outputs": [
    {
     "data": {
      "text/plain": [
       "'c:\\\\aa\\\\aas\\\\dd\\\\a-o'"
      ]
     },
     "execution_count": 47,
     "metadata": {},
     "output_type": "execute_result"
    }
   ],
   "source": [
    "a = 'c:\\\\aa\\\\aas\\\\dd\\\\a-o.wav'\n",
    "a.split('.wav')[0]"
   ]
  },
  {
   "cell_type": "code",
   "execution_count": 9,
   "metadata": {},
   "outputs": [
    {
     "data": {
      "text/plain": [
       "'E:\\\\data\\\\python\\\\3.6\\\\RNN-Ayukngaji/data/train/si/si-irza-1771.wav'"
      ]
     },
     "execution_count": 9,
     "metadata": {},
     "output_type": "execute_result"
    }
   ],
   "source": []
  },
  {
   "cell_type": "code",
   "execution_count": null,
   "metadata": {},
   "outputs": [],
   "source": []
  }
 ],
 "metadata": {
  "kernelspec": {
   "display_name": "Python 3",
   "language": "python",
   "name": "python3"
  },
  "language_info": {
   "codemirror_mode": {
    "name": "ipython",
    "version": 3
   },
   "file_extension": ".py",
   "mimetype": "text/x-python",
   "name": "python",
   "nbconvert_exporter": "python",
   "pygments_lexer": "ipython3",
   "version": "3.6.4"
  }
 },
 "nbformat": 4,
 "nbformat_minor": 2
}
